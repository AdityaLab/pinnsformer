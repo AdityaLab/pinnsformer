{
 "cells": [
  {
   "cell_type": "code",
   "execution_count": 1,
   "metadata": {},
   "outputs": [],
   "source": [
    "import numpy as np\n",
    "import torch\n",
    "import torch.nn as nn\n",
    "import matplotlib.pyplot as plt\n",
    "import random\n",
    "from torch.optim import LBFGS\n",
    "from tqdm import tqdm\n",
    "\n",
    "from util import *\n",
    "from model.pinn import PINNs\n",
    "from model.pinnsformer import PINNsformer"
   ]
  },
  {
   "cell_type": "code",
   "execution_count": 2,
   "metadata": {},
   "outputs": [],
   "source": [
    "seed = 0\n",
    "np.random.seed(seed)\n",
    "random.seed(seed)\n",
    "torch.manual_seed(seed)\n",
    "torch.cuda.manual_seed(seed)\n",
    "\n",
    "device = 'cuda:2'"
   ]
  },
  {
   "cell_type": "code",
   "execution_count": 3,
   "metadata": {},
   "outputs": [],
   "source": [
    "res, b_left, b_right, b_upper, b_lower = get_data([0,2*np.pi], [0,1], 51, 51)\n",
    "res_test, _, _, _, _ = get_data([0,2*np.pi], [0,1], 101, 101)\n",
    "\n",
    "res = torch.tensor(res, dtype=torch.float32, requires_grad=True).to(device)\n",
    "b_left = torch.tensor(b_left, dtype=torch.float32, requires_grad=True).to(device)\n",
    "b_right = torch.tensor(b_right, dtype=torch.float32, requires_grad=True).to(device)\n",
    "b_upper = torch.tensor(b_upper, dtype=torch.float32, requires_grad=True).to(device)\n",
    "b_lower = torch.tensor(b_lower, dtype=torch.float32, requires_grad=True).to(device)\n",
    "\n",
    "x_res, t_res = res[:,0:1], res[:,1:2]\n",
    "x_left, t_left = b_left[:,0:1], b_left[:,1:2]\n",
    "x_right, t_right = b_right[:,0:1], b_right[:,1:2]\n",
    "x_upper, t_upper = b_upper[:,0:1], b_upper[:,1:2]\n",
    "x_lower, t_lower = b_lower[:,0:1], b_lower[:,1:2]\n",
    "\n",
    "def init_weights(m):\n",
    "    if isinstance(m, nn.Linear):\n",
    "        torch.nn.init.xavier_uniform(m.weight)\n",
    "        m.bias.data.fill_(0.01)"
   ]
  },
  {
   "cell_type": "code",
   "execution_count": 4,
   "metadata": {},
   "outputs": [
    {
     "name": "stdout",
     "output_type": "stream",
     "text": [
      "PINNs(\n",
      "  (linear): Sequential(\n",
      "    (0): Linear(in_features=2, out_features=512, bias=True)\n",
      "    (1): Tanh()\n",
      "    (2): Linear(in_features=512, out_features=512, bias=True)\n",
      "    (3): Tanh()\n",
      "    (4): Linear(in_features=512, out_features=512, bias=True)\n",
      "    (5): Tanh()\n",
      "    (6): Linear(in_features=512, out_features=1, bias=True)\n",
      "  )\n",
      ")\n",
      "527361\n"
     ]
    },
    {
     "name": "stderr",
     "output_type": "stream",
     "text": [
      "/tmp/ipykernel_3124313/2548549373.py:18: UserWarning: nn.init.xavier_uniform is now deprecated in favor of nn.init.xavier_uniform_.\n",
      "  torch.nn.init.xavier_uniform(m.weight)\n"
     ]
    }
   ],
   "source": [
    "# Train PINNs \n",
    "\n",
    "model = PINNs(in_dim=2, hidden_dim=512, out_dim=1, num_layer=4).to(device)\n",
    "\n",
    "model.apply(init_weights)\n",
    "optim = LBFGS(model.parameters(), line_search_fn='strong_wolfe')\n",
    "\n",
    "print(model)\n",
    "print(get_n_params(model))"
   ]
  },
  {
   "cell_type": "code",
   "execution_count": 5,
   "metadata": {},
   "outputs": [
    {
     "name": "stderr",
     "output_type": "stream",
     "text": [
      "100%|██████████| 500/500 [01:11<00:00,  7.03it/s]\n"
     ]
    }
   ],
   "source": [
    "loss_track = []\n",
    "\n",
    "for i in tqdm(range(500)):\n",
    "    def closure():\n",
    "        pred_res = model(x_res, t_res)\n",
    "        pred_left = model(x_left, t_left)\n",
    "        pred_right = model(x_right, t_right)\n",
    "        pred_upper = model(x_upper, t_upper)\n",
    "        pred_lower = model(x_lower, t_lower)\n",
    "\n",
    "        u_x = torch.autograd.grad(pred_res, x_res, grad_outputs=torch.ones_like(pred_res), retain_graph=True, create_graph=True)[0]\n",
    "        u_t = torch.autograd.grad(pred_res, t_res, grad_outputs=torch.ones_like(pred_res), retain_graph=True, create_graph=True)[0]\n",
    "\n",
    "        loss_res = torch.mean((u_t - 5 * pred_res * (1-pred_res)) ** 2)\n",
    "        loss_bc = torch.mean((pred_upper - pred_lower) ** 2)\n",
    "        loss_ic = torch.mean((pred_left[:,0] - torch.exp(- (x_left[:,0] - torch.pi)**2 / (2*(torch.pi/4)**2))) ** 2)\n",
    "\n",
    "        loss_track.append([loss_res.item(), loss_bc.item(), loss_ic.item()])\n",
    "\n",
    "        loss = loss_res + loss_bc + loss_ic\n",
    "        optim.zero_grad()\n",
    "        loss.backward()\n",
    "        return loss\n",
    "\n",
    "    optim.step(closure)"
   ]
  },
  {
   "cell_type": "code",
   "execution_count": 9,
   "metadata": {},
   "outputs": [
    {
     "name": "stdout",
     "output_type": "stream",
     "text": [
      "Loss Res: 0.018879, Loss_BC: 0.000005, Loss_IC: 0.178749\n"
     ]
    }
   ],
   "source": [
    "print('Loss Res: {:4f}, Loss_BC: {:4f}, Loss_IC: {:4f}'.format(loss_track[-1][0], loss_track[-1][1], loss_track[-1][2]))"
   ]
  },
  {
   "cell_type": "code",
   "execution_count": 10,
   "metadata": {},
   "outputs": [
    {
     "name": "stderr",
     "output_type": "stream",
     "text": [
      "/tmp/ipykernel_3124313/1041934197.py:2: UserWarning: To copy construct from a tensor, it is recommended to use sourceTensor.clone().detach() or sourceTensor.clone().detach().requires_grad_(True), rather than torch.tensor(sourceTensor).\n",
      "  res_test = torch.tensor(res_test, dtype=torch.float32, requires_grad=True).to(device)\n"
     ]
    },
    {
     "data": {
      "image/png": "[encoded data removed]",
      "text/plain": [
       "<Figure size 800x600 with 1 Axes>"
      ]
     },
     "metadata": {},
     "output_type": "display_data"
    }
   ],
   "source": [
    "# Visualize PINNs \n",
    "res_test = torch.tensor(res_test, dtype=torch.float32, requires_grad=True).to(device)\n",
    "x_test, t_test = res_test[:,0:1], res_test[:,1:2]\n",
    "\n",
    "with torch.no_grad():\n",
    "    pred = model(x_test, t_test)[:,0:1]\n",
    "    pred = pred.cpu().detach().numpy()\n",
    "\n",
    "pred = pred.reshape(101,101)\n",
    "plt.figure(figsize=(8,6))\n",
    "plt.imshow(pred)\n",
    "plt.show()"
   ]
  }
 ],
 "metadata": {
  "kernelspec": {
   "display_name": "base",
   "language": "python",
   "name": "python3"
  },
  "language_info": {
   "codemirror_mode": {
    "name": "ipython",
    "version": 3
   },
   "file_extension": ".py",
   "mimetype": "text/x-python",
   "name": "python",
   "nbconvert_exporter": "python",
   "pygments_lexer": "ipython3",
   "version": "3.10.4"
  },
  "orig_nbformat": 4
 },
 "nbformat": 4,
 "nbformat_minor": 2
}
