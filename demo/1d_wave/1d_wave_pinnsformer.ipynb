{
 "cells": [
  {
   "cell_type": "code",
   "execution_count": 1,
   "metadata": {},
   "outputs": [],
   "source": [
    "import numpy as np\n",
    "import torch\n",
    "import torch.nn as nn\n",
    "import matplotlib.pyplot as plt\n",
    "import random\n",
    "from torch.optim import LBFGS, Adam\n",
    "from tqdm import tqdm\n",
    "\n",
    "from util import *\n",
    "from model.pinn import PINNs\n",
    "from model.pinnsformer import PINNsformer"
   ]
  },
  {
   "cell_type": "code",
   "execution_count": 2,
   "metadata": {},
   "outputs": [],
   "source": [
    "seed = 0\n",
    "np.random.seed(seed)\n",
    "random.seed(seed)\n",
    "torch.manual_seed(seed)\n",
    "torch.cuda.manual_seed(seed)\n",
    "\n",
    "device = 'cuda:1'\n",
    "\n",
    "step_size = 1e-4"
   ]
  },
  {
   "cell_type": "code",
   "execution_count": 3,
   "metadata": {},
   "outputs": [],
   "source": [
    "# Train PINNsformer\n",
    "res, b_left, b_right, b_upper, b_lower = get_data([0,1], [0,1], 51, 51)\n",
    "res_test, _, _, _, _ = get_data([0,1], [0,1], 101, 101)\n",
    "\n",
    "res = make_time_sequence(res, num_step=5, step=step_size)\n",
    "b_left = make_time_sequence(b_left, num_step=5, step=step_size)\n",
    "b_right = make_time_sequence(b_right, num_step=5, step=step_size)\n",
    "b_upper = make_time_sequence(b_upper, num_step=5, step=step_size)\n",
    "b_lower = make_time_sequence(b_lower, num_step=5, step=step_size)\n",
    "\n",
    "res = torch.tensor(res, dtype=torch.float32, requires_grad=True).to(device)\n",
    "b_left = torch.tensor(b_left, dtype=torch.float32, requires_grad=True).to(device)\n",
    "b_right = torch.tensor(b_right, dtype=torch.float32, requires_grad=True).to(device)\n",
    "b_upper = torch.tensor(b_upper, dtype=torch.float32, requires_grad=True).to(device)\n",
    "b_lower = torch.tensor(b_lower, dtype=torch.float32, requires_grad=True).to(device)\n",
    "\n",
    "x_res, t_res = res[:,:,0:1], res[:,:,1:2]\n",
    "x_left, t_left = b_left[:,:,0:1], b_left[:,:,1:2]\n",
    "x_right, t_right = b_right[:,:,0:1], b_right[:,:,1:2]\n",
    "x_upper, t_upper = b_upper[:,:,0:1], b_upper[:,:,1:2]\n",
    "x_lower, t_lower = b_lower[:,:,0:1], b_lower[:,:,1:2]\n",
    "\n",
    "def init_weights(m):\n",
    "    if isinstance(m, nn.Linear):\n",
    "        torch.nn.init.xavier_uniform(m.weight)\n",
    "        m.bias.data.fill_(0.01)"
   ]
  },
  {
   "cell_type": "code",
   "execution_count": 4,
   "metadata": {},
   "outputs": [
    {
     "name": "stdout",
     "output_type": "stream",
     "text": [
      "PINNsformer(\n",
      "  (linear_emb): Linear(in_features=2, out_features=32, bias=True)\n",
      "  (encoder): Encoder(\n",
      "    (layers): ModuleList(\n",
      "      (0): EncoderLayer(\n",
      "        (attn): MultiheadAttention(\n",
      "          (out_proj): NonDynamicallyQuantizableLinear(in_features=32, out_features=32, bias=True)\n",
      "        )\n",
      "        (ff): FeedForward(\n",
      "          (linear): Sequential(\n",
      "            (0): Linear(in_features=32, out_features=256, bias=True)\n",
      "            (1): WaveAct()\n",
      "            (2): Linear(in_features=256, out_features=256, bias=True)\n",
      "            (3): WaveAct()\n",
      "            (4): Linear(in_features=256, out_features=32, bias=True)\n",
      "          )\n",
      "        )\n",
      "        (act1): WaveAct()\n",
      "        (act2): WaveAct()\n",
      "      )\n",
      "    )\n",
      "    (act): WaveAct()\n",
      "  )\n",
      "  (decoder): Decoder(\n",
      "    (layers): ModuleList(\n",
      "      (0): DecoderLayer(\n",
      "        (attn): MultiheadAttention(\n",
      "          (out_proj): NonDynamicallyQuantizableLinear(in_features=32, out_features=32, bias=True)\n",
      "        )\n",
      "        (ff): FeedForward(\n",
      "          (linear): Sequential(\n",
      "            (0): Linear(in_features=32, out_features=256, bias=True)\n",
      "            (1): WaveAct()\n",
      "            (2): Linear(in_features=256, out_features=256, bias=True)\n",
      "            (3): WaveAct()\n",
      "            (4): Linear(in_features=256, out_features=32, bias=True)\n",
      "          )\n",
      "        )\n",
      "        (act1): WaveAct()\n",
      "        (act2): WaveAct()\n",
      "      )\n",
      "    )\n",
      "    (act): WaveAct()\n",
      "  )\n",
      "  (linear_out): Sequential(\n",
      "    (0): Linear(in_features=32, out_features=512, bias=True)\n",
      "    (1): WaveAct()\n",
      "    (2): Linear(in_features=512, out_features=512, bias=True)\n",
      "    (3): WaveAct()\n",
      "    (4): Linear(in_features=512, out_features=1, bias=True)\n",
      "  )\n",
      ")\n",
      "453561\n"
     ]
    },
    {
     "name": "stderr",
     "output_type": "stream",
     "text": [
      "/tmp/ipykernel_3509467/1640652296.py:25: UserWarning: nn.init.xavier_uniform is now deprecated in favor of nn.init.xavier_uniform_.\n",
      "  torch.nn.init.xavier_uniform(m.weight)\n"
     ]
    }
   ],
   "source": [
    "model = PINNsformer(d_out=1, d_hidden=512, d_model=32, N=1, heads=2).to(device)\n",
    "\n",
    "model.apply(init_weights)\n",
    "optim = LBFGS(model.parameters(), line_search_fn='strong_wolfe')\n",
    "\n",
    "print(model)\n",
    "print(get_n_params(model))\n",
    "\n",
    "# optim = Adam(model.parameters(), lr=1e-4)\n",
    "\n",
    "n_params = get_n_params(model)"
   ]
  },
  {
   "cell_type": "code",
   "execution_count": 5,
   "metadata": {},
   "outputs": [
    {
     "name": "stderr",
     "output_type": "stream",
     "text": [
      "100%|██████████| 1000/1000 [25:26<00:00,  1.53s/it]\n"
     ]
    }
   ],
   "source": [
    "loss_track = []\n",
    "\n",
    "pi = torch.tensor(np.pi, dtype=torch.float32, requires_grad=False).to(device)\n",
    "\n",
    "for i in tqdm(range(1000)):\n",
    "    def closure():\n",
    "        pred_res = model(x_res, t_res)\n",
    "        pred_left = model(x_left, t_left)\n",
    "        pred_right = model(x_right, t_right)\n",
    "        pred_upper = model(x_upper, t_upper)\n",
    "        pred_lower = model(x_lower, t_lower)\n",
    "\n",
    "        u_x = torch.autograd.grad(pred_res, x_res, grad_outputs=torch.ones_like(pred_res), retain_graph=True, create_graph=True)[0]\n",
    "        u_xx = torch.autograd.grad(u_x, x_res, grad_outputs=torch.ones_like(pred_res), retain_graph=True, create_graph=True)[0]\n",
    "        u_t = torch.autograd.grad(pred_res, t_res, grad_outputs=torch.ones_like(pred_res), retain_graph=True, create_graph=True)[0]\n",
    "        u_tt = torch.autograd.grad(u_t, t_res, grad_outputs=torch.ones_like(pred_res), retain_graph=True, create_graph=True)[0]\n",
    "\n",
    "        loss_res = torch.mean((u_tt - 4 * u_xx) ** 2)\n",
    "        loss_bc = torch.mean((pred_upper) ** 2) + torch.mean((pred_lower) ** 2)\n",
    "\n",
    "        ui_t = torch.autograd.grad(pred_left, t_left, grad_outputs=torch.ones_like(pred_left), retain_graph=True, create_graph=True)[0]\n",
    "\n",
    "        loss_ic_1 = torch.mean((pred_left[:,0] - torch.sin(pi*x_left[:,0]) - 0.5 * torch.sin(4*pi*x_left[:,0])) ** 2)\n",
    "        loss_ic_2 = torch.mean((ui_t)**2)\n",
    "\n",
    "        loss_ic = loss_ic_1 + loss_ic_2\n",
    "\n",
    "        loss_track.append([loss_res.item(), loss_ic.item(), loss_bc.item()])\n",
    "        \n",
    "        loss = loss_res + loss_ic + loss_bc\n",
    "        optim.zero_grad()\n",
    "        loss.backward()\n",
    "        return loss\n",
    "\n",
    "    optim.step(closure)"
   ]
  },
  {
   "cell_type": "code",
   "execution_count": 6,
   "metadata": {},
   "outputs": [
    {
     "name": "stdout",
     "output_type": "stream",
     "text": [
      "Loss Res: 0.000456, Loss_BC: 0.110221, Loss_IC: 0.003562\n",
      "Train Loss: 0.114240\n"
     ]
    }
   ],
   "source": [
    "print('Loss Res: {:4f}, Loss_BC: {:4f}, Loss_IC: {:4f}'.format(loss_track[-1][0], loss_track[-1][1], loss_track[-1][2]))\n",
    "print('Train Loss: {:4f}'.format(np.sum(loss_track[-1])))"
   ]
  },
  {
   "cell_type": "code",
   "execution_count": 7,
   "metadata": {},
   "outputs": [
    {
     "name": "stdout",
     "output_type": "stream",
     "text": [
      "relative L1 error: 0.449651\n",
      "relative L2 error: 0.449948\n"
     ]
    },
    {
     "data": {
      "image/png": "[encoded data removed]",
      "text/plain": [
       "<Figure size 800x600 with 2 Axes>"
      ]
     },
     "metadata": {},
     "output_type": "display_data"
    }
   ],
   "source": [
    "# Visualize PINNsformer\n",
    "res_test = make_time_sequence(res_test, num_step=5, step=step_size) \n",
    "res_test = torch.tensor(res_test, dtype=torch.float32, requires_grad=True).to(device)\n",
    "x_test, t_test = res_test[:,:,0:1], res_test[:,:,1:2]\n",
    "\n",
    "with torch.no_grad():\n",
    "    pred = model(x_test, t_test)[:,0:1]\n",
    "    pred = pred.cpu().detach().numpy()\n",
    "\n",
    "pred = pred.reshape(101,101)\n",
    "\n",
    "def u_ana(x,t):\n",
    "    return np.sin(np.pi*x) * np.cos(2*np.pi*t) + 0.5 * np.sin(4*np.pi*x) * np.cos(8*np.pi*t)\n",
    "\n",
    "res_test, _, _, _, _ = get_data([0,1], [0,1], 101, 101)\n",
    "u = u_ana(res_test[:,0], res_test[:,1]).reshape(101,101)\n",
    "\n",
    "rl1 = np.sum(np.abs(u-pred)) / np.sum(np.abs(u))\n",
    "rl2 = np.sqrt(np.sum((u-pred)**2) / np.sum(u**2))\n",
    "\n",
    "print('relative L1 error: {:4f}'.format(rl1))\n",
    "print('relative L2 error: {:4f}'.format(rl2))\n",
    "\n",
    "plt.figure(figsize=(8,6))\n",
    "plt.imshow(pred)\n",
    "plt.colorbar()\n",
    "plt.show()"
   ]
  }
 ],
 "metadata": {
  "kernelspec": {
   "display_name": "Python 3.10.4 ('leo')",
   "language": "python",
   "name": "python3"
  },
  "language_info": {
   "codemirror_mode": {
    "name": "ipython",
    "version": 3
   },
   "file_extension": ".py",
   "mimetype": "text/x-python",
   "name": "python",
   "nbconvert_exporter": "python",
   "pygments_lexer": "ipython3",
   "version": "3.10.4"
  },
  "orig_nbformat": 4,
  "vscode": {
   "interpreter": {
    "hash": "f00c2961c942794548b13a0685c75d25dbb21bc045a79ea599a5517cd9b70666"
   }
  }
 },
 "nbformat": 4,
 "nbformat_minor": 2
}
